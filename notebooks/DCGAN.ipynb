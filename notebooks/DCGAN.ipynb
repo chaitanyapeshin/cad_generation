{
  "cells": [
    {
      "cell_type": "markdown",
      "metadata": {
        "colab_type": "text",
        "id": "JX3QqxIxFh25"
      },
      "source": [
        "# DCGAN implementation in pytorch"
      ]
    },
    {
      "cell_type": "code",
      "execution_count": 3,
      "metadata": {
        "colab": {
          "base_uri": "https://localhost:8080/",
          "height": 34
        },
        "colab_type": "code",
        "id": "qAVbbhcdFYdP",
        "outputId": "ed992831-d8ca-493d-8162-fbe33f8a6172"
      },
      "outputs": [],
      "source": [
        "import torch\n",
        "import torch.nn as nn\n",
        "from torchsummary import summary\n",
        "\n",
        "\"\"\"\n",
        "DCGAN pytorch implementation based on https://arxiv.org/abs/1511.06434\n",
        "\"\"\"\n"
      ]
    },
    {
      "cell_type": "markdown",
      "metadata": {
        "colab_type": "text",
        "id": "a24T9e6oFrUE"
      },
      "source": [
        "## Discriminator"
      ]
    },
    {
      "cell_type": "code",
      "execution_count": 0,
      "metadata": {
        "colab": {},
        "colab_type": "code",
        "id": "DMsIKh59Fpgi"
      },
      "outputs": [],
      "source": [
        "class Discriminator(torch.nn.Module):\n",
        "\n",
        "    def __init__(self, in_channels=3, out_conv_channels=1024, dim=64):\n",
        "        super(Discriminator, self).__init__()\n",
        "        conv1_channels = int(out_conv_channels / 8)\n",
        "        conv2_channels = int(out_conv_channels / 4)\n",
        "        conv3_channels = int(out_conv_channels / 2)\n",
        "        self.out_conv_channels = out_conv_channels\n",
        "        self.out_dim = int(dim / 16)\n",
        "\n",
        "        self.conv1 = nn.Sequential(\n",
        "            nn.Conv2d(\n",
        "                in_channels=in_channels, out_channels=conv1_channels, kernel_size=4,\n",
        "                stride=2, padding=1, bias=False\n",
        "            ),\n",
        "            nn.BatchNorm2d(conv1_channels),\n",
        "            nn.LeakyReLU(0.2, inplace=True)\n",
        "        )\n",
        "        self.conv2 = nn.Sequential(\n",
        "            nn.Conv2d(\n",
        "                in_channels=conv1_channels, out_channels=conv2_channels, kernel_size=4,\n",
        "                stride=2, padding=1, bias=False\n",
        "            ),\n",
        "            nn.BatchNorm2d(conv2_channels),\n",
        "            nn.LeakyReLU(0.2, inplace=True)\n",
        "        )\n",
        "        self.conv3 = nn.Sequential(\n",
        "            nn.Conv2d(\n",
        "                in_channels=conv2_channels, out_channels=conv3_channels, kernel_size=4,\n",
        "                stride=2, padding=1, bias=False\n",
        "            ),\n",
        "            nn.BatchNorm2d(conv3_channels),\n",
        "            nn.LeakyReLU(0.2, inplace=True)\n",
        "        )\n",
        "        self.conv4 = nn.Sequential(\n",
        "            nn.Conv2d(\n",
        "                in_channels=conv3_channels, out_channels=out_conv_channels, kernel_size=4,\n",
        "                stride=2, padding=1, bias=False\n",
        "            ),\n",
        "            nn.BatchNorm2d(out_conv_channels),\n",
        "            nn.LeakyReLU(0.2, inplace=True)\n",
        "        )\n",
        "        self.out = nn.Sequential(\n",
        "            nn.Linear(out_conv_channels * self.out_dim * self.out_dim, 1),\n",
        "            nn.Sigmoid(),\n",
        "        )\n",
        "\n",
        "    def forward(self, x):\n",
        "        x = self.conv1(x)\n",
        "        x = self.conv2(x)\n",
        "        x = self.conv3(x)\n",
        "        x = self.conv4(x)\n",
        "        x = x.view(-1, self.out_conv_channels * self.out_dim * self.out_dim)\n",
        "        x = self.out(x)\n",
        "        return x\n"
      ]
    },
    {
      "cell_type": "markdown",
      "metadata": {
        "colab_type": "text",
        "id": "oby_xHhqFmfw"
      },
      "source": [
        "## Generator"
      ]
    },
    {
      "cell_type": "code",
      "execution_count": 0,
      "metadata": {
        "colab": {},
        "colab_type": "code",
        "id": "tIw8VMAUFvJ1"
      },
      "outputs": [],
      "source": [
        "\n",
        "class Generator(torch.nn.Module):\n",
        "\n",
        "    def __init__(self, in_channels=1024, out_dim=64, out_channels=3, noise_dim=200):\n",
        "        super(Generator, self).__init__()\n",
        "        self.in_channels = in_channels\n",
        "        self.out_dim = out_dim\n",
        "        self.in_dim = int(out_dim / 16)\n",
        "        conv1_out_channels = int(self.in_channels / 2.0)\n",
        "        conv2_out_channels = int(conv1_out_channels / 2)\n",
        "        conv3_out_channels = int(conv2_out_channels / 2)\n",
        "\n",
        "        self.linear = torch.nn.Linear(noise_dim, in_channels * self.in_dim * self.in_dim)\n",
        "\n",
        "        self.conv1 = nn.Sequential(\n",
        "            nn.ConvTranspose2d(\n",
        "                in_channels=self.in_channels, out_channels=conv1_out_channels, kernel_size=4,\n",
        "                stride=2, padding=1, bias=False\n",
        "            ),\n",
        "            nn.BatchNorm2d(conv1_out_channels),\n",
        "            nn.ReLU(inplace=True)\n",
        "        )\n",
        "        self.conv2 = nn.Sequential(\n",
        "            nn.ConvTranspose2d(\n",
        "                in_channels=conv1_out_channels, out_channels=conv2_out_channels, kernel_size=4,\n",
        "                stride=2, padding=1, bias=False\n",
        "            ),\n",
        "            nn.BatchNorm2d(conv2_out_channels),\n",
        "            nn.ReLU(inplace=True)\n",
        "        )\n",
        "        self.conv3 = nn.Sequential(\n",
        "            nn.ConvTranspose2d(\n",
        "                in_channels=conv2_out_channels, out_channels=conv3_out_channels, kernel_size=4,\n",
        "                stride=2, padding=1, bias=False\n",
        "            ),\n",
        "            nn.BatchNorm2d(conv3_out_channels),\n",
        "            nn.ReLU(inplace=True)\n",
        "        )\n",
        "        self.conv4 = nn.Sequential(\n",
        "            nn.ConvTranspose2d(\n",
        "                in_channels=conv3_out_channels, out_channels=out_channels, kernel_size=4,\n",
        "                stride=2, padding=1, bias=False\n",
        "            )\n",
        "        )\n",
        "        self.out = torch.nn.Tanh()\n",
        "\n",
        "    def forward(self, x):\n",
        "        x = self.linear(x)\n",
        "        x = x.view(-1, self.in_channels, self.in_dim, self.in_dim)\n",
        "        x = self.conv1(x)\n",
        "        x = self.conv2(x)\n",
        "        x = self.conv3(x)\n",
        "        x = self.conv4(x)\n",
        "        return self.out(x)"
      ]
    },
    {
      "cell_type": "markdown",
      "metadata": {
        "colab_type": "text",
        "id": "UGmkMNYOF1EN"
      },
      "source": [
        "## Test"
      ]
    },
    {
      "cell_type": "code",
      "execution_count": 7,
      "metadata": {
        "colab": {
          "base_uri": "https://localhost:8080/",
          "height": 990
        },
        "colab_type": "code",
        "id": "s5Xs5zyCF2Ms",
        "outputId": "160788d3-5aa9-4c44-9850-7455dd2cdad9"
      },
      "outputs": [],
      "source": [
        "def test_dcgan():\n",
        "    noise_dim = 100\n",
        "    in_conv_channels = 512\n",
        "    dim = 64  # cube volume\n",
        "    model_generator = Generator(in_channels=in_conv_channels, out_dim=dim, out_channels=3, noise_dim=noise_dim)\n",
        "    noise = torch.rand(1, noise_dim)\n",
        "    generated_volume = model_generator(noise)\n",
        "    print(\"Generator output shape\", generated_volume.shape)\n",
        "    model_discriminator = Discriminator(in_channels=3, dim=dim, out_conv_channels=in_conv_channels)\n",
        "    out = model_discriminator(generated_volume)\n",
        "    print(\"Discriminator output\", out.item())\n",
        "    print(\"Generator summary\")\n",
        "    summary(model_generator, (1, noise_dim))\n",
        "    print(\"Discriminator summary\")\n",
        "    summary(model_discriminator, (3,64,64))\n",
        "\n",
        "test_dcgan()"
      ]
    }
  ],
  "metadata": {
    "colab": {
      "name": "DCGAN.ipynb",
      "provenance": []
    },
    "kernelspec": {
      "display_name": "Python 3",
      "name": "python3"
    }
  },
  "nbformat": 4,
  "nbformat_minor": 0
}
